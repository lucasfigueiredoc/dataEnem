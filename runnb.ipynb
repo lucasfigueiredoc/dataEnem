{
 "cells": [
  {
   "cell_type": "code",
   "execution_count": 1,
   "metadata": {},
   "outputs": [],
   "source": [
    "import pandas as pd"
   ]
  },
  {
   "cell_type": "code",
   "execution_count": 3,
   "metadata": {},
   "outputs": [
    {
     "name": "stdout",
     "output_type": "stream",
     "text": [
      "   NU_INSCRICAO  NU_ANO  TP_FAIXA_ETARIA TP_SEXO  TP_ESTADO_CIVIL  \\\n",
      "0  200006271946    2020               11       F                1   \n",
      "1  200001195856    2020               11       M                2   \n",
      "2  200001943954    2020                4       F                2   \n",
      "3  200001908998    2020                2       M                1   \n",
      "4  200001634757    2020                4       F                1   \n",
      "\n",
      "   TP_COR_RACA  TP_NACIONALIDADE  TP_ST_CONCLUSAO  TP_ANO_CONCLUIU  TP_ESCOLA  \\\n",
      "0            2                 1                1               11          1   \n",
      "1            3                 1                1               11          1   \n",
      "2            3                 2                2                0          2   \n",
      "3            3                 1                2                0          2   \n",
      "4            3                 2                1                1          1   \n",
      "\n",
      "   ...  Q016  Q017  Q018 Q019  Q020 Q021  Q022  Q023  Q024  Q025  \n",
      "0  ...   NaN   NaN   NaN  NaN   NaN  NaN   NaN   NaN   NaN   NaN  \n",
      "1  ...   NaN   NaN   NaN  NaN   NaN  NaN   NaN   NaN   NaN   NaN  \n",
      "2  ...     B     A     A    B     A    A     A     A     A     A  \n",
      "3  ...   NaN   NaN   NaN  NaN   NaN  NaN   NaN   NaN   NaN   NaN  \n",
      "4  ...     A     A     A    B     A    B     B     A     A     B  \n",
      "\n",
      "[5 rows x 76 columns]\n"
     ]
    }
   ],
   "source": [
    "\n",
    "df = pd.read_csv('/home/t14/Downloads/microdados_enem_2020/DADOS/MICRODADOS_ENEM_2020.csv', encoding='ISO-8859-1', sep=';')\n",
    " \n",
    "print(df.head())"
   ]
  },
  {
   "cell_type": "code",
   "execution_count": null,
   "metadata": {},
   "outputs": [],
   "source": []
  },
  {
   "cell_type": "code",
   "execution_count": 14,
   "metadata": {},
   "outputs": [],
   "source": [
    "dfTratado = df[['TP_SEXO','TP_COR_RACA','SG_UF_PROVA','NO_MUNICIPIO_PROVA','NU_ANO']]\n",
    "dfTratado.value_counts()\n",
    "dfTratadoEstados = df['SG_UF_PROVA']\n"
   ]
  },
  {
   "cell_type": "code",
   "execution_count": 13,
   "metadata": {},
   "outputs": [],
   "source": [
    "import matplotlib.pyplot as plt"
   ]
  },
  {
   "cell_type": "code",
   "execution_count": 16,
   "metadata": {},
   "outputs": [],
   "source": [
    "dfTratadoEstados.sum()"
   ]
  }
 ],
 "metadata": {
  "kernelspec": {
   "display_name": "Python 3 (ipykernel)",
   "language": "python",
   "name": "python3"
  },
  "language_info": {
   "codemirror_mode": {
    "name": "ipython",
    "version": 3
   },
   "file_extension": ".py",
   "mimetype": "text/x-python",
   "name": "python",
   "nbconvert_exporter": "python",
   "pygments_lexer": "ipython3",
   "version": "3.10.12"
  },
  "orig_nbformat": 4
 },
 "nbformat": 4,
 "nbformat_minor": 2
}
